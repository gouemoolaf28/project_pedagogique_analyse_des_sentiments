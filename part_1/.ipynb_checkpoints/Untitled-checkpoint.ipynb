{
 "cells": [
  {
   "cell_type": "markdown",
   "metadata": {},
   "source": [
    "### Importing libraries"
   ]
  },
  {
   "cell_type": "code",
   "execution_count": 36,
   "metadata": {},
   "outputs": [],
   "source": [
    "import requests\n",
    "from bs4 import BeautifulSoup\n",
    "import pandas as pd\n",
    "import numpy as np\n",
    "import re\n",
    "\n",
    "#Translation package\n",
    "from googletrans import Translator\n",
    "\n",
    "#visualization packages\n",
    "import matplotlib.pyplot as plt\n",
    "import seaborn as sns\n",
    "\n",
    "#NLP packages\n",
    "from textblob import TextBlob\n",
    "\n",
    "import warnings\n",
    "warnings.filterwarnings(\"ignore\")"
   ]
  },
  {
   "cell_type": "markdown",
   "metadata": {},
   "source": [
    "### Make a request to a website and get a response"
   ]
  },
  {
   "cell_type": "code",
   "execution_count": 12,
   "metadata": {},
   "outputs": [
    {
     "data": {
      "text/plain": [
       "200"
      ]
     },
     "execution_count": 12,
     "metadata": {},
     "output_type": "execute_result"
    }
   ],
   "source": [
    "base_site = \"https://www.letudiant.fr/etudes/annuaire-enseignement-superieur/etablissement/etablissement-estiam-82456.html\"\n",
    "\n",
    "response = requests.get(base_site)\n",
    "response.status_code"
   ]
  },
  {
   "cell_type": "markdown",
   "metadata": {},
   "source": [
    "### Getting a HTML content from a response"
   ]
  },
  {
   "cell_type": "code",
   "execution_count": 14,
   "metadata": {},
   "outputs": [],
   "source": [
    "html = response.content"
   ]
  },
  {
   "cell_type": "code",
   "execution_count": 15,
   "metadata": {},
   "outputs": [],
   "source": [
    "soup = BeautifulSoup(html, 'html.parser')"
   ]
  },
  {
   "cell_type": "markdown",
   "metadata": {},
   "source": [
    "### Save a response to an HTML file"
   ]
  },
  {
   "cell_type": "code",
   "execution_count": 89,
   "metadata": {},
   "outputs": [],
   "source": [
    "# with open('projet_pedagogique.html', 'wb') as file:\n",
    "#     file.write(soup.prettify('utf-8'))"
   ]
  },
  {
   "cell_type": "markdown",
   "metadata": {},
   "source": [
    "### Retrieve parent element"
   ]
  },
  {
   "cell_type": "code",
   "execution_count": 18,
   "metadata": {},
   "outputs": [],
   "source": [
    "divs = soup.find_all('div', attrs={'class': 'c-box--wire__section'})\n",
    "#divs"
   ]
  },
  {
   "cell_type": "markdown",
   "metadata": {},
   "source": [
    "### Extract name and publication date"
   ]
  },
  {
   "cell_type": "code",
   "execution_count": 96,
   "metadata": {},
   "outputs": [],
   "source": [
    "# [div.find('div', {'class': 'c-avis__user__info__resume__name'}) for div in divs]"
   ]
  },
  {
   "cell_type": "code",
   "execution_count": 97,
   "metadata": {},
   "outputs": [],
   "source": [
    "# full_name_date = [None if div.find('div', {'class': 'c-avis__user__info__resume__name'}) is None else div.find('div', {'class': 'c-avis__user__info__resume__name'}).string.strip().replace(\"\\n\", \"\").replace(\"\", \"\") for div in divs]\n",
    "# full_name_date"
   ]
  },
  {
   "cell_type": "markdown",
   "metadata": {},
   "source": [
    "### Extract Comments"
   ]
  },
  {
   "cell_type": "code",
   "execution_count": 20,
   "metadata": {},
   "outputs": [],
   "source": [
    "#[div.find('p', {'class': 'c-avis__user__comment'}) for div in divs]"
   ]
  },
  {
   "cell_type": "code",
   "execution_count": 22,
   "metadata": {},
   "outputs": [],
   "source": [
    "comments = [None if div.find('p', {'class': 'c-avis__user__comment'}) is None else div.find('p', {'class': 'c-avis__user__comment'}).string.strip() for div in divs]\n",
    "#comments"
   ]
  },
  {
   "cell_type": "code",
   "execution_count": 101,
   "metadata": {},
   "outputs": [],
   "source": [
    "# TextBlob(\"The movie is dirty\").sentiment"
   ]
  },
  {
   "cell_type": "markdown",
   "metadata": {},
   "source": [
    "### Create a Dataframe "
   ]
  },
  {
   "cell_type": "code",
   "execution_count": 107,
   "metadata": {},
   "outputs": [],
   "source": [
    "comments_info = pd.DataFrame()\n",
    "\n",
    "comments_info['Comments'] = comments\n",
    "\n",
    "#comments_info"
   ]
  },
  {
   "cell_type": "code",
   "execution_count": 108,
   "metadata": {},
   "outputs": [],
   "source": [
    "pd.set_option('display.max_colwidth', None)\n",
    "#comments_info"
   ]
  },
  {
   "cell_type": "markdown",
   "metadata": {},
   "source": [
    "### Cleaning Data "
   ]
  },
  {
   "cell_type": "code",
   "execution_count": 109,
   "metadata": {
    "scrolled": true
   },
   "outputs": [],
   "source": [
    "comments_info = comments_info.dropna()\n",
    "# comments_info"
   ]
  },
  {
   "cell_type": "code",
   "execution_count": 110,
   "metadata": {
    "scrolled": true
   },
   "outputs": [],
   "source": [
    "comments_info = comments_info.replace(r'^\\s*$', np.NaN, regex=True)#\n",
    "# comments_info"
   ]
  },
  {
   "cell_type": "code",
   "execution_count": 111,
   "metadata": {
    "scrolled": true
   },
   "outputs": [],
   "source": [
    "comments_info.dropna(subset = [\"Comments\"], inplace=True)\n",
    "# comments_info"
   ]
  },
  {
   "cell_type": "code",
   "execution_count": 112,
   "metadata": {},
   "outputs": [
    {
     "data": {
      "text/html": [
       "<div>\n",
       "<style scoped>\n",
       "    .dataframe tbody tr th:only-of-type {\n",
       "        vertical-align: middle;\n",
       "    }\n",
       "\n",
       "    .dataframe tbody tr th {\n",
       "        vertical-align: top;\n",
       "    }\n",
       "\n",
       "    .dataframe thead th {\n",
       "        text-align: right;\n",
       "    }\n",
       "</style>\n",
       "<table border=\"1\" class=\"dataframe\">\n",
       "  <thead>\n",
       "    <tr style=\"text-align: right;\">\n",
       "      <th></th>\n",
       "      <th>Comments</th>\n",
       "    </tr>\n",
       "  </thead>\n",
       "  <tbody>\n",
       "    <tr>\n",
       "      <th>4</th>\n",
       "      <td>Une école parfaite en terme d'apprentissage, d'organisation, vie étudiant et d’accompagnement que ce soit au sein de l'école ou à l’extérieur pour la recherche d'alternance ou de contrat d'apprentissage, une équipe administrative toujours disponible pour la satisfaction et pour répondre aux besoins des étudiants, une très bonne qualité du contenu de la formation et des intervenants très compétent techniquement et pédagogique.</td>\n",
       "    </tr>\n",
       "    <tr>\n",
       "      <th>6</th>\n",
       "      <td>Mon fils est ravi d'être dans cette école, les profs très professionnels, domage qu'il n'y a pas assez de publicité pour se fait connaître cet établissement.</td>\n",
       "    </tr>\n",
       "    <tr>\n",
       "      <th>8</th>\n",
       "      <td>Après un BTS en informatique, j'ai intégré l'ESTIAM en 3ème année et je suis très content de mon choix. J'ai choisi l'ESTIAM car le programme est très à la pointe des dernières technologies. De plus le nombre d'heures de cours était clairement indiqué, ce qui n'est pas le cas de toutes les écoles. L'école est à Paris, ce qui est très pratique pour aller à des conférences et pour trouver un stage. Les cours se déroulent dans une ambiance cool et studieuse. Les locaux sont tout neufs et les salles de cours agréables. Je recommande cette école!</td>\n",
       "    </tr>\n",
       "    <tr>\n",
       "      <th>10</th>\n",
       "      <td>.</td>\n",
       "    </tr>\n",
       "    <tr>\n",
       "      <th>12</th>\n",
       "      <td>Je laisse un commentaire, parce que je suis assez étonné des derniers qui ont été publié.Je suis très content d'être à l'ESTIAM. C'est une bonne école, avec en moyenne des bons profs. Il y a parfois des soucis, mais pas plus que dans toutes école. Au moins on se sent écouté et l'équipe a mis en oeuvre pas mal de chose depuis le début d'année pour satisfaire les plus éxigents.Alors je lis des commentaires sur le wifi ou les distributeurs et sa me fait rire: c'est des trucs qui sont réglés depuis longtemps et qui était externe à l'école.D'ailleurs dans les commentaires, il y a quelqu'un qui raconte n'importe quoi (au sujet du diplôme et tout sa…), ça sent la campagne d'attaque d'une école concurrente...Si je devais conseiller l'ESTIAM à mes potes, je le ferai. Je l'ai fait d'ailleurs!Tiens, je rempli les étoiles et je me rends compte que la plupart des gens ont rien mis pour bibliothèques: tout est en ligne! On a accès à plein de supports de cours et toute la bibliothèque ENI depuis le portail des étudiants.</td>\n",
       "    </tr>\n",
       "    <tr>\n",
       "      <th>16</th>\n",
       "      <td>Ce n'est pas une école c'est un arnaque, vraiment zéro organisation, c'est grâce aux élèves que l'école vie toujours je pense</td>\n",
       "    </tr>\n",
       "    <tr>\n",
       "      <th>18</th>\n",
       "      <td>Une formation inégale due à une grande fourchette de niveaux à l'entrée : si on sait déjà on s'ennuie, si on ne sait pas ça va trop vite. Le dossier à l'entrée est là pour donner l'illusion d'une sélection, mais on se retrouve avec de tous les niveaux dans toutes les formations.Au cours de mes 2 ans là bas, l'administration a rencontré de nombreux conflits pour la gestion des cours, des plannings...L'équipe se rattrape par la bonne volonté et la bonne humeur de certains accompagnant, et d'un sérieux vis à vis des relations professionnelles que la formation apporte.</td>\n",
       "    </tr>\n",
       "    <tr>\n",
       "      <th>20</th>\n",
       "      <td>Une formation inégale due à une grande fourchette de niveaux à l'entrée : si on sait déjà on s'ennuie, si on ne sait pas ça va trop vite. Le dossier à l'entrée est là pour donner l'illusion d'une sélection, mais on se retrouve avec de tous les niveaux dans toutes les formations.Au cours de mes 2 ans là bas, l'administration a rencontré de nombreux conflits pour la gestion des cours, des plannings...L'équipe se rattrape par la bonne volonté et la bonne humeur de certains accompagnant, et d'un sérieux vis à vis des relations professionnelles que la formation apporte.</td>\n",
       "    </tr>\n",
       "    <tr>\n",
       "      <th>22</th>\n",
       "      <td>Après 5ans de travail chez Orange tunisie , j'ai décidé de continuer mes etudes et me suis retrouvée à l’ÉSTIAM. Quelle bonne décision ! Je ne regrette pas ! Les élèves y sont passionnés travailleurs et exigeants, les projets pédagogiques sont une réelle introduction au monde professionnel et il y a une réelle envie de rendre le programme actuel. Certains vous dirons que l'école est loin d'être parfaite et c'est bien le cas mais pour une école aussi jeune l’ÉSTIAM est clairement en avance sur son temps et offre une prestation bien supérieur à celle de ses concurrents. J'ai réussi à m'épanouir à l’ÉSTIAM et a trouver ma voie.</td>\n",
       "    </tr>\n",
       "    <tr>\n",
       "      <th>24</th>\n",
       "      <td>Je suis très déçu par cette école. Aucune rigueur quand au suivi des étudiants. Pas de surveillance lors des évaluations, pas de corrigés des évaluations ni d'exercices supplémentaires à faire à la maison. Les programmes sont survolés. Pour une école informatique, il y a aucune salle informatique. Autrement dit on risque d’obtenir notre diplôme avec rien dans la tête. Même une école de seconde chance vaut mieux.J'espère vraiment qu'ils tiendront compte de ces aspects et y remédieront.J'espère que le plus grand nombre de personne auront le temps de voir ce avis avant qu'ils le fasse disparaître aussi (Eh oui je connais une personne qui a vu disparaître son avis google, en une journée car il était très négatif). C'est d'ailleurs cette malhonnêteté qui m'a poussé à mettre un avis, pour empêcher d'autre personne de faire la même erreur que moi. Erreur qui est de choisir cette école en se fiant aux avis positives qu'on trouve sur internet.</td>\n",
       "    </tr>\n",
       "    <tr>\n",
       "      <th>26</th>\n",
       "      <td>Ecole à éviter</td>\n",
       "    </tr>\n",
       "    <tr>\n",
       "      <th>28</th>\n",
       "      <td>Ecole sérieuse, les professionnels et intervenants nous parlent d'un métier plus que de concepts théorique. Les mises en application sont pertinentes, les choix d'alternance sont adaptées à notre profil et nos envies. L'équipe est à l'écoute et motivée.</td>\n",
       "    </tr>\n",
       "    <tr>\n",
       "      <th>30</th>\n",
       "      <td>Très bonne école, avec des cours intéressant et orienté sur le monde professionnel qui est au cœur du cursus. Équipe dirigeante professionnel et disponible. Locaux agréable.</td>\n",
       "    </tr>\n",
       "    <tr>\n",
       "      <th>32</th>\n",
       "      <td>Etudiant cherchant une spécialisation Big Data, je suis tombé sur l'Estiam par hasard.En regardant le programme et ce que l'école j'ai tenté mon coup. Aujourd'hui, alors que l'année est presque terminée je peux dire que je suis satisfait des cours que j'ai eu. De plus l'alternance que j'ai trouvé grâce à l'estiam corespond parfaitement à ce que je voulais faire, ce qui me permet d'apprendre énormément dans le vast domaine qu'est la Big Data.</td>\n",
       "    </tr>\n",
       "    <tr>\n",
       "      <th>34</th>\n",
       "      <td>Actuellement en Master et en alternance au sein de Estiam, je recommande vivement cette école. c'est une école où tu es bien suivi. ils font ce qu'il faut pour t'aider à réussir. L'équipe pédagogique est à l'écoute et vous accompagne tout au long de votre formation. Estiam a bien répondu à mes attentes.</td>\n",
       "    </tr>\n",
       "    <tr>\n",
       "      <th>38</th>\n",
       "      <td>Estiam est pour moi une très bonne école avec des professeurs très agréables qui prennent du temps pour expliquer les choses. une équipe administrative très conviviale  s'occupent de répondre a toutes nos questions avec le sourire. un programme rempli de projets permettant de mettre en pratique toutes les connaissances acquises pendants les divers cours. ces derniers sont adaptés à l’évolution du domaine informatique. je suis en train de finir mon master et grâce à cette formation j'ai pu réussir mes missions dans l'entreprise et décrocher un CDI.Je vous recommande vivement cette école.</td>\n",
       "    </tr>\n",
       "    <tr>\n",
       "      <th>40</th>\n",
       "      <td>Pour moi qui recherchait une école afin de préparer un master, je dois dire que je suis bien tombé. ESTIAM est pour ma part une très bonne école, ambiance au top avec une écoute active et des profs très disponible, un cadre de travail au top(d’ailleurs l’école a ses propres locaux, plein de salles etc...et ils sont méga top !) L'école dispose d'un grand réseau d'entreprise ce qui facilite la recherche d'entreprise :) Des projets ambitieux et très intéressant, des cours très diversifiés avec la chance de pouvoir toucher les 3 pôles( réseau, dev et big data) Je la conseille vivement à tous ceux qui recherche une école sérieuse afin de construire une carrière solide et de longue haleine :) Je suis entrain de finir mon master dans cette école spécialisation Dev et mobile</td>\n",
       "    </tr>\n",
       "    <tr>\n",
       "      <th>42</th>\n",
       "      <td>École nouvelle et actuelle dans sa création, dans son concept et dans son programme.l'école propose aux étudiants des entreprises délivrant des missions qui sont en concordance avec le programme scolaire (ce qui est appris à l'école est donc appliqué en entreprise).Domaines variés et projets intéressants, nous ne sommes pas \"développeurs\", \"administrateurs réseau\" spécialisés mais plutôt \"ingénieurs multifonctions\".</td>\n",
       "    </tr>\n",
       "    <tr>\n",
       "      <th>44</th>\n",
       "      <td>École au top dans le domaine de l'informatique. Les projets vous plonge directement dans les problématiques réel du monde de l'entreprise.</td>\n",
       "    </tr>\n",
       "    <tr>\n",
       "      <th>46</th>\n",
       "      <td>Grâce à l'Estiam, j'ai pu poursuivre en master mon contrat pro dans mon entreprise malgré un changement d'orientation. Par rapport à ma précédente expérience à l'université, la réactivité et la disponibilité du directeur ont simplifié mes démarches administrative ainsi que la liaison entre l'école et la société.Des soucis d'organisation de l'emploi du temps demeurent, mais le rythme de l'alternance et les technologies étudiées s'adaptent très bien au travail en entreprise.</td>\n",
       "    </tr>\n",
       "    <tr>\n",
       "      <th>48</th>\n",
       "      <td>C’est une école où tu es bien suivi. Ils font ce qu'il faut pour t'aider à réussir.</td>\n",
       "    </tr>\n",
       "    <tr>\n",
       "      <th>50</th>\n",
       "      <td>École au top , programme à jour avec les nouvelles techno,directeur pédagogique investie , et  locaux neuf!</td>\n",
       "    </tr>\n",
       "  </tbody>\n",
       "</table>\n",
       "</div>"
      ],
      "text/plain": [
       "                                                                                                                                                                                                                                                                                                                                                                                                                                                                                                                                                                                                                                                                                                                                                                                                                                                                                                                                                                                                                                                         Comments\n",
       "4                                                                                                                                                                                                                                                                                                                                                                                                                                                                                                                                                                                                                   Une école parfaite en terme d'apprentissage, d'organisation, vie étudiant et d’accompagnement que ce soit au sein de l'école ou à l’extérieur pour la recherche d'alternance ou de contrat d'apprentissage, une équipe administrative toujours disponible pour la satisfaction et pour répondre aux besoins des étudiants, une très bonne qualité du contenu de la formation et des intervenants très compétent techniquement et pédagogique.\n",
       "6                                                                                                                                                                                                                                                                                                                                                                                                                                                                                                                                                                                                                                                                                                                                                                                                                                                                                                   Mon fils est ravi d'être dans cette école, les profs très professionnels, domage qu'il n'y a pas assez de publicité pour se fait connaître cet établissement.\n",
       "8                                                                                                                                                                                                                                                                                                                                                                                                                                                                                             Après un BTS en informatique, j'ai intégré l'ESTIAM en 3ème année et je suis très content de mon choix. J'ai choisi l'ESTIAM car le programme est très à la pointe des dernières technologies. De plus le nombre d'heures de cours était clairement indiqué, ce qui n'est pas le cas de toutes les écoles. L'école est à Paris, ce qui est très pratique pour aller à des conférences et pour trouver un stage. Les cours se déroulent dans une ambiance cool et studieuse. Les locaux sont tout neufs et les salles de cours agréables. Je recommande cette école!\n",
       "10                                                                                                                                                                                                                                                                                                                                                                                                                                                                                                                                                                                                                                                                                                                                                                                                                                                                                                                                                                                                                                                              .\n",
       "12  Je laisse un commentaire, parce que je suis assez étonné des derniers qui ont été publié.Je suis très content d'être à l'ESTIAM. C'est une bonne école, avec en moyenne des bons profs. Il y a parfois des soucis, mais pas plus que dans toutes école. Au moins on se sent écouté et l'équipe a mis en oeuvre pas mal de chose depuis le début d'année pour satisfaire les plus éxigents.Alors je lis des commentaires sur le wifi ou les distributeurs et sa me fait rire: c'est des trucs qui sont réglés depuis longtemps et qui était externe à l'école.D'ailleurs dans les commentaires, il y a quelqu'un qui raconte n'importe quoi (au sujet du diplôme et tout sa…), ça sent la campagne d'attaque d'une école concurrente...Si je devais conseiller l'ESTIAM à mes potes, je le ferai. Je l'ai fait d'ailleurs!Tiens, je rempli les étoiles et je me rends compte que la plupart des gens ont rien mis pour bibliothèques: tout est en ligne! On a accès à plein de supports de cours et toute la bibliothèque ENI depuis le portail des étudiants.\n",
       "16                                                                                                                                                                                                                                                                                                                                                                                                                                                                                                                                                                                                                                                                                                                                                                                                                                                                                                                                  Ce n'est pas une école c'est un arnaque, vraiment zéro organisation, c'est grâce aux élèves que l'école vie toujours je pense\n",
       "18                                                                                                                                                                                                                                                                                                                                                                                                                                                                    Une formation inégale due à une grande fourchette de niveaux à l'entrée : si on sait déjà on s'ennuie, si on ne sait pas ça va trop vite. Le dossier à l'entrée est là pour donner l'illusion d'une sélection, mais on se retrouve avec de tous les niveaux dans toutes les formations.Au cours de mes 2 ans là bas, l'administration a rencontré de nombreux conflits pour la gestion des cours, des plannings...L'équipe se rattrape par la bonne volonté et la bonne humeur de certains accompagnant, et d'un sérieux vis à vis des relations professionnelles que la formation apporte.\n",
       "20                                                                                                                                                                                                                                                                                                                                                                                                                                                                    Une formation inégale due à une grande fourchette de niveaux à l'entrée : si on sait déjà on s'ennuie, si on ne sait pas ça va trop vite. Le dossier à l'entrée est là pour donner l'illusion d'une sélection, mais on se retrouve avec de tous les niveaux dans toutes les formations.Au cours de mes 2 ans là bas, l'administration a rencontré de nombreux conflits pour la gestion des cours, des plannings...L'équipe se rattrape par la bonne volonté et la bonne humeur de certains accompagnant, et d'un sérieux vis à vis des relations professionnelles que la formation apporte.\n",
       "22                                                                                                                                                                                                                                                                                                                                                                                                       Après 5ans de travail chez Orange tunisie , j'ai décidé de continuer mes etudes et me suis retrouvée à l’ÉSTIAM. Quelle bonne décision ! Je ne regrette pas ! Les élèves y sont passionnés travailleurs et exigeants, les projets pédagogiques sont une réelle introduction au monde professionnel et il y a une réelle envie de rendre le programme actuel. Certains vous dirons que l'école est loin d'être parfaite et c'est bien le cas mais pour une école aussi jeune l’ÉSTIAM est clairement en avance sur son temps et offre une prestation bien supérieur à celle de ses concurrents. J'ai réussi à m'épanouir à l’ÉSTIAM et a trouver ma voie.\n",
       "24                                                                           Je suis très déçu par cette école. Aucune rigueur quand au suivi des étudiants. Pas de surveillance lors des évaluations, pas de corrigés des évaluations ni d'exercices supplémentaires à faire à la maison. Les programmes sont survolés. Pour une école informatique, il y a aucune salle informatique. Autrement dit on risque d’obtenir notre diplôme avec rien dans la tête. Même une école de seconde chance vaut mieux.J'espère vraiment qu'ils tiendront compte de ces aspects et y remédieront.J'espère que le plus grand nombre de personne auront le temps de voir ce avis avant qu'ils le fasse disparaître aussi (Eh oui je connais une personne qui a vu disparaître son avis google, en une journée car il était très négatif). C'est d'ailleurs cette malhonnêteté qui m'a poussé à mettre un avis, pour empêcher d'autre personne de faire la même erreur que moi. Erreur qui est de choisir cette école en se fiant aux avis positives qu'on trouve sur internet.\n",
       "26                                                                                                                                                                                                                                                                                                                                                                                                                                                                                                                                                                                                                                                                                                                                                                                                                                                                                                                                                                                                                                                 Ecole à éviter\n",
       "28                                                                                                                                                                                                                                                                                                                                                                                                                                                                                                                                                                                                                                                                                                                                                                                                  Ecole sérieuse, les professionnels et intervenants nous parlent d'un métier plus que de concepts théorique. Les mises en application sont pertinentes, les choix d'alternance sont adaptées à notre profil et nos envies. L'équipe est à l'écoute et motivée.\n",
       "30                                                                                                                                                                                                                                                                                                                                                                                                                                                                                                                                                                                                                                                                                                                                                                                                                                                                                  Très bonne école, avec des cours intéressant et orienté sur le monde professionnel qui est au cœur du cursus. Équipe dirigeante professionnel et disponible. Locaux agréable.\n",
       "32                                                                                                                                                                                                                                                                                                                                                                                                                                                                                                                                                                                                  Etudiant cherchant une spécialisation Big Data, je suis tombé sur l'Estiam par hasard.En regardant le programme et ce que l'école j'ai tenté mon coup. Aujourd'hui, alors que l'année est presque terminée je peux dire que je suis satisfait des cours que j'ai eu. De plus l'alternance que j'ai trouvé grâce à l'estiam corespond parfaitement à ce que je voulais faire, ce qui me permet d'apprendre énormément dans le vast domaine qu'est la Big Data.\n",
       "34                                                                                                                                                                                                                                                                                                                                                                                                                                                                                                                                                                                                                                                                                                                                               Actuellement en Master et en alternance au sein de Estiam, je recommande vivement cette école. c'est une école où tu es bien suivi. ils font ce qu'il faut pour t'aider à réussir. L'équipe pédagogique est à l'écoute et vous accompagne tout au long de votre formation. Estiam a bien répondu à mes attentes.\n",
       "38                                                                                                                                                                                                                                                                                                                                                                                                                                              Estiam est pour moi une très bonne école avec des professeurs très agréables qui prennent du temps pour expliquer les choses. une équipe administrative très conviviale  s'occupent de répondre a toutes nos questions avec le sourire. un programme rempli de projets permettant de mettre en pratique toutes les connaissances acquises pendants les divers cours. ces derniers sont adaptés à l’évolution du domaine informatique. je suis en train de finir mon master et grâce à cette formation j'ai pu réussir mes missions dans l'entreprise et décrocher un CDI.Je vous recommande vivement cette école.\n",
       "40                                                                                                                                                                                                                                                      Pour moi qui recherchait une école afin de préparer un master, je dois dire que je suis bien tombé. ESTIAM est pour ma part une très bonne école, ambiance au top avec une écoute active et des profs très disponible, un cadre de travail au top(d’ailleurs l’école a ses propres locaux, plein de salles etc...et ils sont méga top !) L'école dispose d'un grand réseau d'entreprise ce qui facilite la recherche d'entreprise :) Des projets ambitieux et très intéressant, des cours très diversifiés avec la chance de pouvoir toucher les 3 pôles( réseau, dev et big data) Je la conseille vivement à tous ceux qui recherche une école sérieuse afin de construire une carrière solide et de longue haleine :) Je suis entrain de finir mon master dans cette école spécialisation Dev et mobile\n",
       "42                                                                                                                                                                                                                                                                                                                                                                                                                                                                                                                                                                                                                            École nouvelle et actuelle dans sa création, dans son concept et dans son programme.l'école propose aux étudiants des entreprises délivrant des missions qui sont en concordance avec le programme scolaire (ce qui est appris à l'école est donc appliqué en entreprise).Domaines variés et projets intéressants, nous ne sommes pas \"développeurs\", \"administrateurs réseau\" spécialisés mais plutôt \"ingénieurs multifonctions\".\n",
       "44                                                                                                                                                                                                                                                                                                                                                                                                                                                                                                                                                                                                                                                                                                                                                                                                                                                                                                                     École au top dans le domaine de l'informatique. Les projets vous plonge directement dans les problématiques réel du monde de l'entreprise.\n",
       "46                                                                                                                                                                                                                                                                                                                                                                                                                                                                                                                                                                  Grâce à l'Estiam, j'ai pu poursuivre en master mon contrat pro dans mon entreprise malgré un changement d'orientation. Par rapport à ma précédente expérience à l'université, la réactivité et la disponibilité du directeur ont simplifié mes démarches administrative ainsi que la liaison entre l'école et la société.Des soucis d'organisation de l'emploi du temps demeurent, mais le rythme de l'alternance et les technologies étudiées s'adaptent très bien au travail en entreprise.\n",
       "48                                                                                                                                                                                                                                                                                                                                                                                                                                                                                                                                                                                                                                                                                                                                                                                                                                                                                                                                                                            C’est une école où tu es bien suivi. Ils font ce qu'il faut pour t'aider à réussir.\n",
       "50                                                                                                                                                                                                                                                                                                                                                                                                                                                                                                                                                                                                                                                                                                                                                                                                                                                                                                                                                    École au top , programme à jour avec les nouvelles techno,directeur pédagogique investie , et  locaux neuf!"
      ]
     },
     "execution_count": 112,
     "metadata": {},
     "output_type": "execute_result"
    }
   ],
   "source": [
    "\n",
    "comments_info['Comments'] = comments_info.Comments.str.replace(r'\\n', '')\n",
    "# comments_info['Comments'] = comments_info.Comments.str.replace(r'.', '')\n",
    "\n",
    "comments_info = comments_info.replace(r'^\\s*$', np.NaN, regex=True)\n",
    "comments_info.dropna(subset = [\"Comments\"], inplace=True)\n",
    "\n",
    "comments_info"
   ]
  },
  {
   "cell_type": "markdown",
   "metadata": {},
   "source": [
    "### Translate comments from french to English"
   ]
  },
  {
   "cell_type": "code",
   "execution_count": 113,
   "metadata": {},
   "outputs": [],
   "source": [
    "translator = Translator()         \n",
    "df = pd.DataFrame(comments_info)\n",
    "df['Comments_English'] = df['Comments'].apply(translator.translate,src='fr',dest='en').apply(getattr, args=('text',))\n",
    "# df"
   ]
  },
  {
   "cell_type": "code",
   "execution_count": 111,
   "metadata": {},
   "outputs": [],
   "source": [
    "# TextBlob(\"the movie was bad\").sentiment"
   ]
  },
  {
   "cell_type": "markdown",
   "metadata": {},
   "source": [
    "### Define and create a polarity sentiment for each comments"
   ]
  },
  {
   "cell_type": "code",
   "execution_count": 114,
   "metadata": {},
   "outputs": [],
   "source": [
    "pol = []\n",
    "for i in comments_info.Comments_English.values:\n",
    "    try:\n",
    "        analysis = TextBlob(i)\n",
    "        pol.append(analysis.sentiment.polarity)\n",
    "    except:\n",
    "        pol.append(0)"
   ]
  },
  {
   "cell_type": "code",
   "execution_count": 115,
   "metadata": {},
   "outputs": [],
   "source": [
    "comments_info['pol'] = pol"
   ]
  },
  {
   "cell_type": "code",
   "execution_count": 116,
   "metadata": {},
   "outputs": [],
   "source": [
    "comments_info['pol'][comments_info.pol==0] = 0\n",
    "comments_info['pol'][comments_info.pol > 0]= 1\n",
    "comments_info['pol'][comments_info.pol < 0]= -1"
   ]
  },
  {
   "cell_type": "code",
   "execution_count": 117,
   "metadata": {
    "scrolled": true
   },
   "outputs": [],
   "source": [
    "df_positive = comments_info[comments_info.pol==1]\n",
    "# df_positive.head(5)"
   ]
  },
  {
   "cell_type": "code",
   "execution_count": 118,
   "metadata": {},
   "outputs": [],
   "source": [
    "df_positive = comments_info[comments_info.pol==-1]\n",
    "# df_positive"
   ]
  },
  {
   "cell_type": "code",
   "execution_count": 119,
   "metadata": {
    "scrolled": true
   },
   "outputs": [],
   "source": [
    "df_positive = comments_info[comments_info.pol==0]\n",
    "# df_positive.head(5)"
   ]
  },
  {
   "cell_type": "markdown",
   "metadata": {},
   "source": [
    "### Display bar chart to evaluate the polarity"
   ]
  },
  {
   "cell_type": "code",
   "execution_count": 120,
   "metadata": {},
   "outputs": [
    {
     "data": {
      "text/plain": [
       " 1.0    18\n",
       " 0.0     3\n",
       "-1.0     1\n",
       "Name: pol, dtype: int64"
      ]
     },
     "execution_count": 120,
     "metadata": {},
     "output_type": "execute_result"
    },
    {
     "data": {
      "image/png": "[encoded data removed]",
      "text/plain": [
       "<Figure size 432x288 with 1 Axes>"
      ]
     },
     "metadata": {
      "needs_background": "light"
     },
     "output_type": "display_data"
    }
   ],
   "source": [
    "comments_info.pol.value_counts().plot.bar()\n",
    "comments_info.pol.value_counts()"
   ]
  },
  {
   "cell_type": "markdown",
   "metadata": {},
   "source": [
    "### Other Code not relevant at all"
   ]
  },
  {
   "cell_type": "code",
   "execution_count": 52,
   "metadata": {},
   "outputs": [],
   "source": [
    "# comments_info.shape"
   ]
  },
  {
   "cell_type": "code",
   "execution_count": 53,
   "metadata": {},
   "outputs": [],
   "source": [
    "# comments_info.info()\n",
    "# comment_infos.describe().transpose()"
   ]
  },
  {
   "cell_type": "code",
   "execution_count": 45,
   "metadata": {},
   "outputs": [],
   "source": [
    "# comments_info.describe().transpose()"
   ]
  },
  {
   "cell_type": "code",
   "execution_count": 44,
   "metadata": {},
   "outputs": [],
   "source": [
    "# count = comment_infos.isnull().sum().sort_values(ascending=False)\n",
    "# percentage = ((comment_infos.isnull().sum()/len(comment_infos)*100)).sort_values(ascending=False)\n",
    "# missing_data = pd.concat([count, percentage], axis=1, keys=['Count', 'Percentage'])\n",
    "\n",
    "# print('Count and Percentage of mising values for the columns:')\n",
    "\n",
    "# missing_data"
   ]
  },
  {
   "cell_type": "code",
   "execution_count": 189,
   "metadata": {},
   "outputs": [],
   "source": [
    "# import matplotlib.pyplot as plt\n",
    "# %matplotlib inline\n",
    "# print('Percentage for default\\n')\n",
    "# print(round(comment_infos.Comments.value_counts(normalize=True)*100,2))\n",
    "# round(comment_infos.Comments.value_counts(normalize=True)*100,2).plot(kind='bar')\n",
    "# plt.title('Precentage per comment')\n",
    "# plt.show()"
   ]
  },
  {
   "cell_type": "code",
   "execution_count": null,
   "metadata": {},
   "outputs": [],
   "source": [
    "# import re\n",
    "# import string\n",
    "\n",
    "# def text_clean_1(text):\n",
    "#     text = text.lower()\n",
    "#     text = re.sub('\\[.*?\\]', '', text)\n",
    "#     text = re.sub('[%s]' % re.escape(string.punctuation), '', text)\n",
    "#     text = re.sub('\\w*\\d\\w*', '', text)"
   ]
  }
 ],
 "metadata": {
  "kernelspec": {
   "display_name": "Python 3",
   "language": "python",
   "name": "python3"
  },
  "language_info": {
   "codemirror_mode": {
    "name": "ipython",
    "version": 3
   },
   "file_extension": ".py",
   "mimetype": "text/x-python",
   "name": "python",
   "nbconvert_exporter": "python",
   "pygments_lexer": "ipython3",
   "version": "3.7.7"
  }
 },
 "nbformat": 4,
 "nbformat_minor": 4
}
